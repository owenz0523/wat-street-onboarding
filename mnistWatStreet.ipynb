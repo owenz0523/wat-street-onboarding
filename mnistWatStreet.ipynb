{
  "cells": [
    {
      "cell_type": "code",
      "execution_count": 2,
      "metadata": {
        "colab": {
          "base_uri": "https://localhost:8080/"
        },
        "id": "bNItOP57-1QT",
        "outputId": "356dcecd-f5bc-41ca-d619-de98a94987aa"
      },
      "outputs": [
        {
          "name": "stdout",
          "output_type": "stream",
          "text": [
            "6000\n",
            "1000\n"
          ]
        }
      ],
      "source": [
        "import torch\n",
        "import torchvision\n",
        "from torchvision import transforms, datasets\n",
        "\n",
        "train = datasets.MNIST('', train=True, download=True,\n",
        "                       transform=transforms.Compose([\n",
        "                           transforms.ToTensor()\n",
        "                       ]))\n",
        "\n",
        "test = datasets.MNIST('', train=False, download=True,\n",
        "                       transform=transforms.Compose([\n",
        "                           transforms.ToTensor()\n",
        "                       ]))\n",
        "\n",
        "trainset = torch.utils.data.DataLoader(train, batch_size=10, shuffle=True)\n",
        "testset = torch.utils.data.DataLoader(test, batch_size=10, shuffle=True)\n",
        "\n",
        "print(len(trainset))\n",
        "print(len(testset))"
      ]
    },
    {
      "cell_type": "code",
      "execution_count": 4,
      "metadata": {
        "id": "B2_zXp3cAMP3"
      },
      "outputs": [],
      "source": [
        "import torch.nn as nn\n",
        "import torch.nn.functional as F\n",
        "\n",
        "class Net(nn.Module):\n",
        "  def __init__(self):\n",
        "    super().__init__()\n",
        "    self.fc1 = nn.Linear(28*28, 64) # input layer\n",
        "    self.fc2 = nn.Linear(64, 64) # hidden layer 1\n",
        "    self.fc3 = nn.Linear(64, 64) # hidden layer 2\n",
        "    self.fc4 = nn.Linear(64, 10) # output layer\n",
        "\n",
        "  def forward(self, x):\n",
        "    x = F.relu(self.fc1(x))\n",
        "    x = F.relu(self.fc2(x))\n",
        "    x = F.relu(self.fc3(x))\n",
        "    x = self.fc4(x)\n",
        "\n",
        "    return F.log_softmax(x, dim=1)\n",
        "\n",
        "\n",
        "\n",
        "net = Net()"
      ]
    },
    {
      "cell_type": "code",
      "execution_count": 6,
      "metadata": {
        "colab": {
          "base_uri": "https://localhost:8080/"
        },
        "id": "jc_WMMRGCBXz",
        "outputId": "c1cf0e04-1f0d-437b-8cda-d116208f3daf"
      },
      "outputs": [
        {
          "name": "stdout",
          "output_type": "stream",
          "text": [
            "tensor(0.2903, grad_fn=<NllLossBackward0>)\n",
            "tensor(0.0090, grad_fn=<NllLossBackward0>)\n",
            "tensor(0.2708, grad_fn=<NllLossBackward0>)\n",
            "tensor(0.0011, grad_fn=<NllLossBackward0>)\n"
          ]
        }
      ],
      "source": [
        "import torch.optim as optim\n",
        "\n",
        "loss_function = nn.CrossEntropyLoss() # used with scalar values; MSELoss is used with one hot vector (0, 0, 1, 0)\n",
        "optimizer = optim.Adam(net.parameters(), lr=0.001)\n",
        "\n",
        "EPOCHS = 4\n",
        "\n",
        "for epoch in range(EPOCHS):\n",
        "  for data in trainset:\n",
        "    X, Y = data # X in batch of 28x28's; Y is btach of tensor(<scalar>)'s\n",
        "    net.zero_grad() # set gradient to 0\n",
        "    output = net(X.view(-1, 28*28))\n",
        "    loss = loss_function(output, Y) # calc loss\n",
        "    loss.backward()\n",
        "    optimizer.step() # optimize the net.paramets() (i.e. weights and biases)\n",
        "\n",
        "  print(loss)"
      ]
    },
    {
      "cell_type": "code",
      "execution_count": 8,
      "metadata": {
        "colab": {
          "base_uri": "https://localhost:8080/",
          "height": 465
        },
        "id": "c5F2dYjbFe4J",
        "outputId": "291792ac-052e-4198-a6f7-4ecf10ba01a2"
      },
      "outputs": [
        {
          "name": "stdout",
          "output_type": "stream",
          "text": [
            "Accuracy:  0.969\n",
            "tensor(7)\n"
          ]
        },
        {
          "data": {
            "image/png": "[encoded data removed]",
            "text/plain": [
              "<Figure size 640x480 with 1 Axes>"
            ]
          },
          "metadata": {},
          "output_type": "display_data"
        }
      ],
      "source": [
        "import matplotlib.pyplot as plt\n",
        "# find accuracy of neural net by testing\n",
        "\n",
        "correct = 0\n",
        "total = 0\n",
        "\n",
        "with torch.no_grad():\n",
        "  for data in testset:\n",
        "    X,Y = data\n",
        "    output = net(X.view(-1, 28*28))\n",
        "    for idx, i in enumerate(output): #idx is specific picture in batch; i is output array of size 10\n",
        "      if torch.argmax(i) == Y[idx]:\n",
        "        correct += 1\n",
        "      total += 1\n",
        "\n",
        "print(\"Accuracy: \", round(correct/total, 3))\n",
        "\n",
        "print(torch.argmax(net(X[0].view(-1, 28*28))[0]))\n",
        "plt.imshow(X[0].view(28,28))\n",
        "plt.show()"
      ]
    }
  ],
  "metadata": {
    "colab": {
      "provenance": []
    },
    "kernelspec": {
      "display_name": "Python 3",
      "name": "python3"
    },
    "language_info": {
      "name": "python"
    }
  },
  "nbformat": 4,
  "nbformat_minor": 0
}
